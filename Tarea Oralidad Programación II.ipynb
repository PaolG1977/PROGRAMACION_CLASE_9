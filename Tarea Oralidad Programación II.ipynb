{
 "cells": [
  {
   "cell_type": "markdown",
   "metadata": {},
   "source": [
    "# Actividad: Resolución de Código y Explicación en Video\n",
    "\n",
    "## Objetivo:\n",
    "Resolver un problema de programación en Python utilizando POO y herencia, y luego realizar un video explicativo de no entre 3 y 5 minutos sobre cómo resolvieron el problema.\n",
    "\n",
    "## Consigna:\n",
    "#### Problema de Programación:\n",
    "\n",
    "## Descripción del Problema:\n",
    "Escribir un programa en Python que administre una lista de tareas. El programa debe permitir al usuario agregar, eliminar y listar tareas. Cada tarea tendrá un nombre, una descripción y una prioridad (alta, media, baja). Además, habrá diferentes tipos de tareas: TareaGeneral y TareaConFecha, cada una con características adicionales.\n",
    "\n",
    "### Requisitos del Código:\n",
    "\n",
    "1. El programa debe permitir agregar una nueva tarea.\n",
    "2. El programa debe permitir eliminar una tarea existente.\n",
    "3. El programa debe permitir listar todas las tareas con sus detalles.\n",
    "4. El programa debe estar diseñado utilizando POO e incluir herencia.\n",
    "\n",
    "## Video Explicativo:\n",
    "\n",
    "Duración: Máximo entre 3 y 5 minutos.\n",
    "\n",
    "## Contenido del Video:\n",
    "\n",
    "1. Introducción:\n",
    "    + Presenta brevemente quién eres.\n",
    "2. Explicación del Código:\n",
    "    + Muestra y explica tu código paso a paso.\n",
    "    + Ejecuta tu código y muestra que funciona correctamente con un ejemplo.\n",
    "3. Conclusión: Resume brevemente lo que has explicado.\n",
    "\n",
    "### Criterios de Evaluación:\n",
    "   +  Exactitud: El código debe resolver correctamente el problema planteado. \n",
    "    \n",
    "   + Claridad del Código: El código debe estar bien estructurado y comentado.\n",
    "\n",
    "### Calidad del Video:\n",
    "   + La explicación debe ser clara y concisa.\n",
    "   + El video debe estar bien organizado y dentro del tiempo límite.\n",
    "\n",
    "### Entrega:\n",
    "   + Compartir el link de GitHub del repositorio de la solución.\n",
    "   + Subir el video .mp4 al drive del alumno y compartir el link junto con la entrega del código.\n",
    "\n",
    "<u><em>Fecha Límite: 19 de junio de 2024 a las 23:59 hs.</em></u>\n",
    "\n",
    "## ¡Espero ver sus creativas soluciones y sus presentaciones claras y concisas! ¡Buena suerte y a programar!\n"
   ]
  },
  {
   "cell_type": "markdown",
   "metadata": {},
   "source": [
    "+ Primero, definimos las clases necesarias para administrar las tareas. Tenemos una clase \"padre\" denominada: Tarea, y dos clases \"hijas\" denominadas: TareaGeneral y TareaConFecha."
   ]
  },
  {
   "cell_type": "code",
   "execution_count": 28,
   "metadata": {},
   "outputs": [],
   "source": [
    "class Tarea:\n",
    "    def __init__(self, nombre, descripcion, prioridad):\n",
    "        self.nombre = nombre\n",
    "        self.descripcion = descripcion\n",
    "        self.prioridad = prioridad\n",
    "\n",
    "    def __str__(self):\n",
    "        return f\"Nombre: {self.nombre}, Descripción: {self.descripcion}, Prioridad: {self.prioridad}\"\n",
    "\n",
    "class TareaGeneral(Tarea):\n",
    "    def __init__(self, nombre, descripcion, prioridad):\n",
    "        super().__init__(nombre, descripcion, prioridad)\n",
    "\n",
    "class TareaConFecha(Tarea):\n",
    "    def __init__(self, nombre, descripcion, prioridad, fecha_limite):\n",
    "        super().__init__(nombre, descripcion, prioridad)\n",
    "        self.fecha_limite = fecha_limite\n",
    "\n"
   ]
  },
  {
   "cell_type": "markdown",
   "metadata": {},
   "source": [
    "+ La clase Tarea es la clase padre y tiene atributos comunes a todas las tareas: nombre, descripcion y prioridad. Las clases hijas, TareaGeneral y TareaConFecha heredan los atributos de Tarea. TareaConFecha agrega un atributo adicional, fecha_limite.\n",
    "\n",
    "+ A continuación, creamos una clase GestorTareas para administrar la lista de tareas:\n"
   ]
  },
  {
   "cell_type": "code",
   "execution_count": 29,
   "metadata": {},
   "outputs": [],
   "source": [
    "class GestorTareas:\n",
    "    def __init__(self):\n",
    "        self.tareas = []\n",
    "\n",
    "    def agregar_tarea(self, tarea):\n",
    "        self.tareas.append(tarea)\n",
    "\n",
    "    def eliminar_tarea(self, nombre_tarea):\n",
    "        self.tareas = [tarea for tarea in self.tareas if tarea.nombre != nombre_tarea]\n",
    "\n",
    "    def listar_tareas(self):\n",
    "        for tarea in self.tareas:\n",
    "            print(tarea)\n",
    "\n"
   ]
  },
  {
   "cell_type": "markdown",
   "metadata": {},
   "source": [
    "+ Creamos una instancia de GestorTareas y creamos algunas tareas para ejmplificar."
   ]
  },
  {
   "cell_type": "code",
   "execution_count": 26,
   "metadata": {},
   "outputs": [
    {
     "name": "stdout",
     "output_type": "stream",
     "text": [
      "Listado de tareas:\n",
      "Nombre: Descargar Expedientes, Descripción: Analizar documentación, Prioridad: Alta\n",
      "Nombre: Reunión con equipo informático, Descripción: Enviar correo y agenda, Prioridad: Media\n",
      "Nombre: Completar registro diario, Descripción: Recopilar datos para seguimiento y respuesta, Prioridad: Baja\n"
     ]
    }
   ],
   "source": [
    "\n",
    "admin = GestorTareas()\n",
    "\n",
    "tarea1 = TareaGeneral(\"Descargar Expedientes\", \"Analizar documentación\", \"Alta\")\n",
    "tarea2 = TareaConFecha(\"Reunión con equipo informático\", \"Enviar correo y agenda\", \"Media\", (\"20-06-2024\"))\n",
    "tarea3 = TareaGeneral(\"Completar registro diario\", \"Recopilar datos para seguimiento y respuesta\", \"Baja\")\n",
    "\n",
    "\n",
    "admin.agregar_tarea(tarea1)\n",
    "admin.agregar_tarea(tarea2)\n",
    "admin.agregar_tarea(tarea3)\n",
    "\n",
    "print(\"Listado de tareas:\")\n",
    "admin.listar_tareas()\n",
    "\n"
   ]
  },
  {
   "cell_type": "markdown",
   "metadata": {},
   "source": [
    "+ Eliminamos una tarea y luego mostramos un listado con el resto de las tareas"
   ]
  },
  {
   "cell_type": "code",
   "execution_count": 27,
   "metadata": {},
   "outputs": [
    {
     "name": "stdout",
     "output_type": "stream",
     "text": [
      "\n",
      "Listado de tareas restantes:\n",
      "Nombre: Descargar Expedientes, Descripción: Analizar documentación, Prioridad: Alta\n",
      "Nombre: Completar registro diario, Descripción: Recopilar datos para seguimiento y respuesta, Prioridad: Baja\n"
     ]
    }
   ],
   "source": [
    "admin.eliminar_tarea(\"Reunión con equipo informático\")\n",
    "\n",
    "print(\"\\nListado de tareas restantes:\")\n",
    "admin.listar_tareas()\n"
   ]
  }
 ],
 "metadata": {
  "kernelspec": {
   "display_name": "Python 3",
   "language": "python",
   "name": "python3"
  },
  "language_info": {
   "codemirror_mode": {
    "name": "ipython",
    "version": 3
   },
   "file_extension": ".py",
   "mimetype": "text/x-python",
   "name": "python",
   "nbconvert_exporter": "python",
   "pygments_lexer": "ipython3",
   "version": "3.11.9"
  }
 },
 "nbformat": 4,
 "nbformat_minor": 2
}
